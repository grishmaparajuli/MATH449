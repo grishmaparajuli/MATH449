{
 "cells": [
  {
   "cell_type": "code",
   "execution_count": null,
   "metadata": {},
   "outputs": [],
   "source": [
    "def PlotOptionsReturn( S, K, CallorPut, NumContracts, Premium =0 ):\n",
    "    R = None\n",
    "    #Plot the return of an option at expiration versus the stock price\n",
    "    #Note: by setting Premium=0 the function plots the value the option at\n",
    "    #expiration\n",
    "    if CallorPut =='Call':\n",
    "        R=(max(max(S-K),0)-Premium)*NumContracts\n",
    "    \n",
    "    elif CallorPut =='Put':\n",
    "        R=(max(max(K-S),0)-Premium)*NumContracts;\n",
    "    \n",
    "    return R"
   ]
  }
 ],
 "metadata": {
  "kernelspec": {
   "display_name": "Python 3",
   "language": "python",
   "name": "python3"
  },
  "language_info": {
   "codemirror_mode": {
    "name": "ipython",
    "version": 3
   },
   "file_extension": ".py",
   "mimetype": "text/x-python",
   "name": "python",
   "nbconvert_exporter": "python",
   "pygments_lexer": "ipython3",
   "version": "3.8.3"
  }
 },
 "nbformat": 4,
 "nbformat_minor": 4
}
