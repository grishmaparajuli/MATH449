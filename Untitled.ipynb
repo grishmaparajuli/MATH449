{
 "cells": [
  {
   "cell_type": "code",
   "execution_count": 22,
   "metadata": {},
   "outputs": [],
   "source": [
    "import pandas as pd\n",
    "import numpy as np\n",
    "import matplotlib.pyplot as plt"
   ]
  },
  {
   "cell_type": "code",
   "execution_count": 20,
   "metadata": {},
   "outputs": [],
   "source": [
    "r = 0.025 # annualized interest rate\n",
    "u = 2; d = 1/2 #Increase/Decrease Ratio\n",
    "K = 5 #strike price\n",
    "S = 4 #Initial Stock Price\n",
    "t = 3\n",
    "p = 1 + r"
   ]
  },
  {
   "cell_type": "code",
   "execution_count": 26,
   "metadata": {},
   "outputs": [
    {
     "ename": "IndentationError",
     "evalue": "unindent does not match any outer indentation level (<tokenize>, line 13)",
     "output_type": "error",
     "traceback": [
      "\u001b[0;36m  File \u001b[0;32m\"<tokenize>\"\u001b[0;36m, line \u001b[0;32m13\u001b[0m\n\u001b[0;31m    for k in range(t-1, -1, -1):\u001b[0m\n\u001b[0m    ^\u001b[0m\n\u001b[0;31mIndentationError\u001b[0m\u001b[0;31m:\u001b[0m unindent does not match any outer indentation level\n"
     ]
    }
   ],
   "source": [
    "print (\"Initial Stock Price is\", S)\n",
    "for i in range (0, t):\n",
    "    Payoff = max(K-S, 0)\n",
    "    S = Su * u\n",
    "    print (Su)\n",
    "    Sd = Sd * d\n",
    "    print (Sd)\n",
    "    i = i + 1\n",
    "    \n",
    "    \n",
    "for m in range(0, t):\n",
    "            C[(t, m)] = max(S * (u ** (2*m - t)) - K, 0)\n",
    "    for k in range(t-1, -1, -1):\n",
    "        for m in range(0,k+1):\n",
    "            C[(k, m)] = math.exp(-r * dt) * (p * C[(k+1, m+1)] + (1-p) * C[(k+1, m)])\n",
    "    return C[(0,0)]\n",
    "     = (math.exp(r * dt) - d)/(u - d)\n",
    "\n",
    "    # option input parameters"
   ]
  },
  {
   "cell_type": "code",
   "execution_count": 27,
   "metadata": {},
   "outputs": [
    {
     "data": {
      "image/png": "[encoded data removed]",
      "text/plain": [
       "<Figure size 432x288 with 1 Axes>"
      ]
     },
     "metadata": {
      "needs_background": "light"
     },
     "output_type": "display_data"
    }
   ],
   "source": [
    "plt.figtext(0.18,0.5,S)\n",
    "plt.figtext(0.6,0.5+0.25,Su)\n",
    "plt.figtext(0.6,0.5-0.25,Sd)\n",
    "\n",
    "plt.annotate('',xy=(0.6,0.5+0.25), xytext=(0.1,0.5), arrowprops=dict(facecolor='b',shrink=0.01))\n",
    "plt.annotate('',xy=(0.6,0.5-0.25), xytext=(0.1,0.5), arrowprops=dict(facecolor='b',shrink=0.01))\n",
    "plt.axis('off')\n",
    "plt.show()"
   ]
  },
  {
   "cell_type": "code",
   "execution_count": 28,
   "metadata": {},
   "outputs": [
    {
     "ename": "SyntaxError",
     "evalue": "invalid syntax (<ipython-input-28-1edf2d623154>, line 3)",
     "output_type": "error",
     "traceback": [
      "\u001b[0;36m  File \u001b[0;32m\"<ipython-input-28-1edf2d623154>\"\u001b[0;36m, line \u001b[0;32m3\u001b[0m\n\u001b[0;31m    r=0.025; % annualized interest rate\u001b[0m\n\u001b[0m             ^\u001b[0m\n\u001b[0;31mSyntaxError\u001b[0m\u001b[0;31m:\u001b[0m invalid syntax\n"
     ]
    }
   ],
   "source": [
    "# a five month call and a five month put\n",
    "\n",
    "r=0.025; # annualized interest rate\n",
    "q=0.000; # annualized dividend rate\n",
    "S=62; # asset price\n",
    "K=64; # strike price\n",
    "T=5/12; # expiration date (in unit year)\n",
    "t=0;\n",
    "sigma=0.2; # annualized volatility\n",
    "\n",
    "n=3; # number of times to divide up the time period [0,T]\n",
    "u = 2; \n",
    "\n",
    "# the binprice() function in the financial toolbox uses the [u,d]\n",
    "# factors determined by the following:\n",
    "# u=exp(sigma*sqrt(dT)); d=1/u; R = exp(r*dT)\n",
    "\n",
    "\n",
    "[P,O] = binprice(S, K, r, T, dT, sigma, 1) % pricing an American call\n",
    "[P,O] = binprice(S, K, r, T, dT, sigma, 0) % pricing an American put\n",
    "\n",
    "%\n",
    "% lets discretize the 5-month time finer and finer\n",
    "% \n",
    "ns=1:500;\n",
    "for n=ns, \n",
    "    dT = T/n;  \n",
    "    [P,O] = binprice(S, K, r, T, dT, sigma, 1); \n",
    "    CallPrice(n)=O(1,1); \n",
    "    [P,O] = binprice(S, K, r, T, dT, sigma, 0); \n",
    "    PutPrice(n)=O(1,1); \n",
    "end\n",
    "subplot(2,1,1), plot(ns, CallPrice(ns)), \n",
    "subplot(2,1,2), plot(ns, PutPrice(ns), 'r')\n",
    "\n",
    "% [C,P] = blsprice(S,K,r,T,sigma); % using blsprice() from the financial toolbox\n",
    "% or:\n",
    "[C,P]=BlackScholes(S,K,r,q,sigma,T) % using BlackScholes() implemented by me\n",
    "% The Black-Scholes price C is very close to the American call price \n",
    "% determined by the binomial lattice method with a large n, whereas the \n",
    "% Black-Scholes price P is not as close as the corresponding American \n",
    "% put price. Do you know why?"
   ]
  },
  {
   "cell_type": "code",
   "execution_count": null,
   "metadata": {},
   "outputs": [],
   "source": []
  }
 ],
 "metadata": {
  "kernelspec": {
   "display_name": "Python 3",
   "language": "python",
   "name": "python3"
  },
  "language_info": {
   "codemirror_mode": {
    "name": "ipython",
    "version": 3
   },
   "file_extension": ".py",
   "mimetype": "text/x-python",
   "name": "python",
   "nbconvert_exporter": "python",
   "pygments_lexer": "ipython3",
   "version": "3.8.3"
  }
 },
 "nbformat": 4,
 "nbformat_minor": 4
}
